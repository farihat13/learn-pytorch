{
  "nbformat": 4,
  "nbformat_minor": 0,
  "metadata": {
    "colab": {
      "name": "1_practice_tensor.ipynb",
      "provenance": [],
      "collapsed_sections": [],
      "toc_visible": true,
      "authorship_tag": "ABX9TyN+uXERzmFgE4cMbmwPs/c6"
    },
    "kernelspec": {
      "display_name": "Python 3",
      "name": "python3"
    },
    "language_info": {
      "name": "python"
    },
    "widgets": {
      "application/vnd.jupyter.widget-state+json": {
        "576e3175fcdf4ebca969a7faee76b47d": {
          "model_module": "@jupyter-widgets/controls",
          "model_name": "HBoxModel",
          "model_module_version": "1.5.0",
          "state": {
            "_view_name": "HBoxView",
            "_dom_classes": [],
            "_model_name": "HBoxModel",
            "_view_module": "@jupyter-widgets/controls",
            "_model_module_version": "1.5.0",
            "_view_count": null,
            "_view_module_version": "1.5.0",
            "box_style": "",
            "layout": "IPY_MODEL_f07416f2acc9436f9d59cb3d10e0893d",
            "_model_module": "@jupyter-widgets/controls",
            "children": [
              "IPY_MODEL_2ac7d688715d4b99bf4feec119f618f6",
              "IPY_MODEL_da44cfffec5a40a699132cfb72010943",
              "IPY_MODEL_68bb8dca8d214fd9bd3a6d603cfcb7dd"
            ]
          }
        },
        "f07416f2acc9436f9d59cb3d10e0893d": {
          "model_module": "@jupyter-widgets/base",
          "model_name": "LayoutModel",
          "model_module_version": "1.2.0",
          "state": {
            "_view_name": "LayoutView",
            "grid_template_rows": null,
            "right": null,
            "justify_content": null,
            "_view_module": "@jupyter-widgets/base",
            "overflow": null,
            "_model_module_version": "1.2.0",
            "_view_count": null,
            "flex_flow": null,
            "width": null,
            "min_width": null,
            "border": null,
            "align_items": null,
            "bottom": null,
            "_model_module": "@jupyter-widgets/base",
            "top": null,
            "grid_column": null,
            "overflow_y": null,
            "overflow_x": null,
            "grid_auto_flow": null,
            "grid_area": null,
            "grid_template_columns": null,
            "flex": null,
            "_model_name": "LayoutModel",
            "justify_items": null,
            "grid_row": null,
            "max_height": null,
            "align_content": null,
            "visibility": null,
            "align_self": null,
            "height": null,
            "min_height": null,
            "padding": null,
            "grid_auto_rows": null,
            "grid_gap": null,
            "max_width": null,
            "order": null,
            "_view_module_version": "1.2.0",
            "grid_template_areas": null,
            "object_position": null,
            "object_fit": null,
            "grid_auto_columns": null,
            "margin": null,
            "display": null,
            "left": null
          }
        },
        "2ac7d688715d4b99bf4feec119f618f6": {
          "model_module": "@jupyter-widgets/controls",
          "model_name": "HTMLModel",
          "model_module_version": "1.5.0",
          "state": {
            "_view_name": "HTMLView",
            "style": "IPY_MODEL_b301dc2358bf477ca0e8b481d9c3bc6f",
            "_dom_classes": [],
            "description": "",
            "_model_name": "HTMLModel",
            "placeholder": "​",
            "_view_module": "@jupyter-widgets/controls",
            "_model_module_version": "1.5.0",
            "value": "100%",
            "_view_count": null,
            "_view_module_version": "1.5.0",
            "description_tooltip": null,
            "_model_module": "@jupyter-widgets/controls",
            "layout": "IPY_MODEL_e36b834e545a4f94823cecc724475edd"
          }
        },
        "da44cfffec5a40a699132cfb72010943": {
          "model_module": "@jupyter-widgets/controls",
          "model_name": "FloatProgressModel",
          "model_module_version": "1.5.0",
          "state": {
            "_view_name": "ProgressView",
            "style": "IPY_MODEL_9abe3f80a83943fe8b4aab5a2ac341ad",
            "_dom_classes": [],
            "description": "",
            "_model_name": "FloatProgressModel",
            "bar_style": "success",
            "max": 46830571,
            "_view_module": "@jupyter-widgets/controls",
            "_model_module_version": "1.5.0",
            "value": 46830571,
            "_view_count": null,
            "_view_module_version": "1.5.0",
            "orientation": "horizontal",
            "min": 0,
            "description_tooltip": null,
            "_model_module": "@jupyter-widgets/controls",
            "layout": "IPY_MODEL_dd8263b321c24ca288ad595822481f77"
          }
        },
        "68bb8dca8d214fd9bd3a6d603cfcb7dd": {
          "model_module": "@jupyter-widgets/controls",
          "model_name": "HTMLModel",
          "model_module_version": "1.5.0",
          "state": {
            "_view_name": "HTMLView",
            "style": "IPY_MODEL_6ec8aabfde7645a9b0ac358c35f3fa1b",
            "_dom_classes": [],
            "description": "",
            "_model_name": "HTMLModel",
            "placeholder": "​",
            "_view_module": "@jupyter-widgets/controls",
            "_model_module_version": "1.5.0",
            "value": " 44.7M/44.7M [00:00&lt;00:00, 113MB/s]",
            "_view_count": null,
            "_view_module_version": "1.5.0",
            "description_tooltip": null,
            "_model_module": "@jupyter-widgets/controls",
            "layout": "IPY_MODEL_d3810574d2f34a088d9aed8b75bea749"
          }
        },
        "b301dc2358bf477ca0e8b481d9c3bc6f": {
          "model_module": "@jupyter-widgets/controls",
          "model_name": "DescriptionStyleModel",
          "model_module_version": "1.5.0",
          "state": {
            "_view_name": "StyleView",
            "_model_name": "DescriptionStyleModel",
            "description_width": "",
            "_view_module": "@jupyter-widgets/base",
            "_model_module_version": "1.5.0",
            "_view_count": null,
            "_view_module_version": "1.2.0",
            "_model_module": "@jupyter-widgets/controls"
          }
        },
        "e36b834e545a4f94823cecc724475edd": {
          "model_module": "@jupyter-widgets/base",
          "model_name": "LayoutModel",
          "model_module_version": "1.2.0",
          "state": {
            "_view_name": "LayoutView",
            "grid_template_rows": null,
            "right": null,
            "justify_content": null,
            "_view_module": "@jupyter-widgets/base",
            "overflow": null,
            "_model_module_version": "1.2.0",
            "_view_count": null,
            "flex_flow": null,
            "width": null,
            "min_width": null,
            "border": null,
            "align_items": null,
            "bottom": null,
            "_model_module": "@jupyter-widgets/base",
            "top": null,
            "grid_column": null,
            "overflow_y": null,
            "overflow_x": null,
            "grid_auto_flow": null,
            "grid_area": null,
            "grid_template_columns": null,
            "flex": null,
            "_model_name": "LayoutModel",
            "justify_items": null,
            "grid_row": null,
            "max_height": null,
            "align_content": null,
            "visibility": null,
            "align_self": null,
            "height": null,
            "min_height": null,
            "padding": null,
            "grid_auto_rows": null,
            "grid_gap": null,
            "max_width": null,
            "order": null,
            "_view_module_version": "1.2.0",
            "grid_template_areas": null,
            "object_position": null,
            "object_fit": null,
            "grid_auto_columns": null,
            "margin": null,
            "display": null,
            "left": null
          }
        },
        "9abe3f80a83943fe8b4aab5a2ac341ad": {
          "model_module": "@jupyter-widgets/controls",
          "model_name": "ProgressStyleModel",
          "model_module_version": "1.5.0",
          "state": {
            "_view_name": "StyleView",
            "_model_name": "ProgressStyleModel",
            "description_width": "",
            "_view_module": "@jupyter-widgets/base",
            "_model_module_version": "1.5.0",
            "_view_count": null,
            "_view_module_version": "1.2.0",
            "bar_color": null,
            "_model_module": "@jupyter-widgets/controls"
          }
        },
        "dd8263b321c24ca288ad595822481f77": {
          "model_module": "@jupyter-widgets/base",
          "model_name": "LayoutModel",
          "model_module_version": "1.2.0",
          "state": {
            "_view_name": "LayoutView",
            "grid_template_rows": null,
            "right": null,
            "justify_content": null,
            "_view_module": "@jupyter-widgets/base",
            "overflow": null,
            "_model_module_version": "1.2.0",
            "_view_count": null,
            "flex_flow": null,
            "width": null,
            "min_width": null,
            "border": null,
            "align_items": null,
            "bottom": null,
            "_model_module": "@jupyter-widgets/base",
            "top": null,
            "grid_column": null,
            "overflow_y": null,
            "overflow_x": null,
            "grid_auto_flow": null,
            "grid_area": null,
            "grid_template_columns": null,
            "flex": null,
            "_model_name": "LayoutModel",
            "justify_items": null,
            "grid_row": null,
            "max_height": null,
            "align_content": null,
            "visibility": null,
            "align_self": null,
            "height": null,
            "min_height": null,
            "padding": null,
            "grid_auto_rows": null,
            "grid_gap": null,
            "max_width": null,
            "order": null,
            "_view_module_version": "1.2.0",
            "grid_template_areas": null,
            "object_position": null,
            "object_fit": null,
            "grid_auto_columns": null,
            "margin": null,
            "display": null,
            "left": null
          }
        },
        "6ec8aabfde7645a9b0ac358c35f3fa1b": {
          "model_module": "@jupyter-widgets/controls",
          "model_name": "DescriptionStyleModel",
          "model_module_version": "1.5.0",
          "state": {
            "_view_name": "StyleView",
            "_model_name": "DescriptionStyleModel",
            "description_width": "",
            "_view_module": "@jupyter-widgets/base",
            "_model_module_version": "1.5.0",
            "_view_count": null,
            "_view_module_version": "1.2.0",
            "_model_module": "@jupyter-widgets/controls"
          }
        },
        "d3810574d2f34a088d9aed8b75bea749": {
          "model_module": "@jupyter-widgets/base",
          "model_name": "LayoutModel",
          "model_module_version": "1.2.0",
          "state": {
            "_view_name": "LayoutView",
            "grid_template_rows": null,
            "right": null,
            "justify_content": null,
            "_view_module": "@jupyter-widgets/base",
            "overflow": null,
            "_model_module_version": "1.2.0",
            "_view_count": null,
            "flex_flow": null,
            "width": null,
            "min_width": null,
            "border": null,
            "align_items": null,
            "bottom": null,
            "_model_module": "@jupyter-widgets/base",
            "top": null,
            "grid_column": null,
            "overflow_y": null,
            "overflow_x": null,
            "grid_auto_flow": null,
            "grid_area": null,
            "grid_template_columns": null,
            "flex": null,
            "_model_name": "LayoutModel",
            "justify_items": null,
            "grid_row": null,
            "max_height": null,
            "align_content": null,
            "visibility": null,
            "align_self": null,
            "height": null,
            "min_height": null,
            "padding": null,
            "grid_auto_rows": null,
            "grid_gap": null,
            "max_width": null,
            "order": null,
            "_view_module_version": "1.2.0",
            "grid_template_areas": null,
            "object_position": null,
            "object_fit": null,
            "grid_auto_columns": null,
            "margin": null,
            "display": null,
            "left": null
          }
        }
      }
    }
  },
  "cells": [
    {
      "cell_type": "markdown",
      "metadata": {
        "id": "hUF3Gtqgas8e"
      },
      "source": [
        "# Basics"
      ]
    },
    {
      "cell_type": "code",
      "metadata": {
        "id": "_W9nzikzMMw6"
      },
      "source": [
        "import torch\n",
        "import numpy as np"
      ],
      "execution_count": null,
      "outputs": []
    },
    {
      "cell_type": "code",
      "metadata": {
        "id": "xl828zLNMVeP"
      },
      "source": [
        "data = [[2,3],[4,5]]"
      ],
      "execution_count": null,
      "outputs": []
    },
    {
      "cell_type": "code",
      "metadata": {
        "colab": {
          "base_uri": "https://localhost:8080/"
        },
        "id": "vZj2PXGXMaxg",
        "outputId": "186f8472-8afc-4e4e-cf74-6eab2cd7e91b"
      },
      "source": [
        "x_data = torch.tensor(data)\n",
        "x_data"
      ],
      "execution_count": null,
      "outputs": [
        {
          "data": {
            "text/plain": [
              "tensor([[2, 3],\n",
              "        [4, 5]])"
            ]
          },
          "execution_count": 3,
          "metadata": {},
          "output_type": "execute_result"
        }
      ]
    },
    {
      "cell_type": "code",
      "metadata": {
        "colab": {
          "base_uri": "https://localhost:8080/"
        },
        "id": "OT1-4fV_MizY",
        "outputId": "75c0b3b2-57ef-4b2a-c119-23e98c0ea1fc"
      },
      "source": [
        "np_arr = np.array(data)\n",
        "np_arr"
      ],
      "execution_count": null,
      "outputs": [
        {
          "data": {
            "text/plain": [
              "array([[2, 3],\n",
              "       [4, 5]])"
            ]
          },
          "execution_count": 5,
          "metadata": {},
          "output_type": "execute_result"
        }
      ]
    },
    {
      "cell_type": "code",
      "metadata": {
        "colab": {
          "base_uri": "https://localhost:8080/"
        },
        "id": "1z9Qk9y9MsXD",
        "outputId": "1a27ebb9-7632-4c02-c47c-3d0fb5d17806"
      },
      "source": [
        "x_from_np = torch.from_numpy(np_arr)\n",
        "x_from_np"
      ],
      "execution_count": null,
      "outputs": [
        {
          "data": {
            "text/plain": [
              "tensor([[2, 3],\n",
              "        [4, 5]])"
            ]
          },
          "execution_count": 6,
          "metadata": {},
          "output_type": "execute_result"
        }
      ]
    },
    {
      "cell_type": "code",
      "metadata": {
        "colab": {
          "base_uri": "https://localhost:8080/"
        },
        "id": "d_Nn4mPBMzcG",
        "outputId": "c39e162e-8c53-4aaa-f689-19d2cd38cd72"
      },
      "source": [
        "x_ones = torch.ones_like(x_data)\n",
        "x_ones"
      ],
      "execution_count": null,
      "outputs": [
        {
          "data": {
            "text/plain": [
              "tensor([[1, 1],\n",
              "        [1, 1]])"
            ]
          },
          "execution_count": 9,
          "metadata": {},
          "output_type": "execute_result"
        }
      ]
    },
    {
      "cell_type": "code",
      "metadata": {
        "colab": {
          "base_uri": "https://localhost:8080/"
        },
        "id": "Xt8kWH5oM5TG",
        "outputId": "ca348bd7-0023-4482-8505-df72d7b15682"
      },
      "source": [
        "x_zeros = torch.zeros_like(x_data)\n",
        "x_zeros"
      ],
      "execution_count": null,
      "outputs": [
        {
          "data": {
            "text/plain": [
              "tensor([[0, 0],\n",
              "        [0, 0]])"
            ]
          },
          "execution_count": 10,
          "metadata": {},
          "output_type": "execute_result"
        }
      ]
    },
    {
      "cell_type": "code",
      "metadata": {
        "colab": {
          "base_uri": "https://localhost:8080/",
          "height": 178
        },
        "id": "g6cL1weWNDnp",
        "outputId": "60cbfb50-a5ad-4caa-ab87-97a3a1acd559"
      },
      "source": [
        "x_rand = torch.rand_like(x_data)\n",
        "x_rand"
      ],
      "execution_count": null,
      "outputs": [
        {
          "ename": "RuntimeError",
          "evalue": "ignored",
          "output_type": "error",
          "traceback": [
            "\u001b[0;31m---------------------------------------------------------------------------\u001b[0m",
            "\u001b[0;31mRuntimeError\u001b[0m                              Traceback (most recent call last)",
            "\u001b[0;32m<ipython-input-11-e67d293b2e03>\u001b[0m in \u001b[0;36m<module>\u001b[0;34m()\u001b[0m\n\u001b[0;32m----> 1\u001b[0;31m \u001b[0mx_rand\u001b[0m \u001b[0;34m=\u001b[0m \u001b[0mtorch\u001b[0m\u001b[0;34m.\u001b[0m\u001b[0mrand_like\u001b[0m\u001b[0;34m(\u001b[0m\u001b[0mx_data\u001b[0m\u001b[0;34m)\u001b[0m\u001b[0;34m\u001b[0m\u001b[0;34m\u001b[0m\u001b[0m\n\u001b[0m\u001b[1;32m      2\u001b[0m \u001b[0mx_rand\u001b[0m\u001b[0;34m\u001b[0m\u001b[0;34m\u001b[0m\u001b[0m\n",
            "\u001b[0;31mRuntimeError\u001b[0m: \"check_uniform_bounds\" not implemented for 'Long'"
          ]
        }
      ]
    },
    {
      "cell_type": "code",
      "metadata": {
        "colab": {
          "base_uri": "https://localhost:8080/"
        },
        "id": "GeTna0IKNzm8",
        "outputId": "ba31a7f1-a056-4449-9f38-8031c9f29fec"
      },
      "source": [
        "x_rand = torch.rand_like(x_data, dtype=torch.float)\n",
        "x_rand"
      ],
      "execution_count": null,
      "outputs": [
        {
          "data": {
            "text/plain": [
              "tensor([[0.2592, 0.5363],\n",
              "        [0.7514, 0.2371]], dtype=torch.float64)"
            ]
          },
          "execution_count": 12,
          "metadata": {},
          "output_type": "execute_result"
        }
      ]
    },
    {
      "cell_type": "code",
      "metadata": {
        "colab": {
          "base_uri": "https://localhost:8080/"
        },
        "id": "Oc7R06wAN83r",
        "outputId": "f1e14154-f7e0-49f4-c7c3-de1850fa0cf4"
      },
      "source": [
        "shape = (2,3)\n",
        "x_ones_from_shape = torch.ones(shape)\n",
        "x_ones_from_shape"
      ],
      "execution_count": null,
      "outputs": [
        {
          "data": {
            "text/plain": [
              "tensor([[1., 1., 1.],\n",
              "        [1., 1., 1.]])"
            ]
          },
          "execution_count": 7,
          "metadata": {},
          "output_type": "execute_result"
        }
      ]
    },
    {
      "cell_type": "code",
      "metadata": {
        "colab": {
          "base_uri": "https://localhost:8080/"
        },
        "id": "rfYIQlLrORwy",
        "outputId": "48f6ec52-da0a-4f92-b7fe-8bac29961cd7"
      },
      "source": [
        "shape = (2,3,)\n",
        "x_ones_from_shp = torch.ones(shape)\n",
        "x_ones_from_shp"
      ],
      "execution_count": null,
      "outputs": [
        {
          "data": {
            "text/plain": [
              "tensor([[1., 1., 1.],\n",
              "        [1., 1., 1.]])"
            ]
          },
          "execution_count": 8,
          "metadata": {},
          "output_type": "execute_result"
        }
      ]
    },
    {
      "cell_type": "code",
      "metadata": {
        "colab": {
          "base_uri": "https://localhost:8080/",
          "height": 212
        },
        "id": "SFznaa_POZUY",
        "outputId": "01591a07-1ce8-4efb-e4fa-903fd47f5a05"
      },
      "source": [
        "x_rand_from_shp = torch.randint(shape)\n",
        "x_rand_from_shp"
      ],
      "execution_count": null,
      "outputs": [
        {
          "ename": "TypeError",
          "evalue": "ignored",
          "output_type": "error",
          "traceback": [
            "\u001b[0;31m---------------------------------------------------------------------------\u001b[0m",
            "\u001b[0;31mTypeError\u001b[0m                                 Traceback (most recent call last)",
            "\u001b[0;32m<ipython-input-9-baa56c07e397>\u001b[0m in \u001b[0;36m<module>\u001b[0;34m()\u001b[0m\n\u001b[0;32m----> 1\u001b[0;31m \u001b[0mx_rand_from_shp\u001b[0m \u001b[0;34m=\u001b[0m \u001b[0mtorch\u001b[0m\u001b[0;34m.\u001b[0m\u001b[0mrandint\u001b[0m\u001b[0;34m(\u001b[0m\u001b[0mshape\u001b[0m\u001b[0;34m)\u001b[0m\u001b[0;34m\u001b[0m\u001b[0;34m\u001b[0m\u001b[0m\n\u001b[0m\u001b[1;32m      2\u001b[0m \u001b[0mx_rand_from_shp\u001b[0m\u001b[0;34m\u001b[0m\u001b[0;34m\u001b[0m\u001b[0m\n",
            "\u001b[0;31mTypeError\u001b[0m: randint() received an invalid combination of arguments - got (tuple), but expected one of:\n * (int high, tuple of ints size, *, torch.Generator generator, Tensor out, torch.dtype dtype, torch.layout layout, torch.device device, bool requires_grad)\n * (int low, int high, tuple of ints size, *, torch.Generator generator, Tensor out, torch.dtype dtype, torch.layout layout, torch.device device, bool requires_grad)\n"
          ]
        }
      ]
    },
    {
      "cell_type": "code",
      "metadata": {
        "id": "9Wvvx1UOOlHD"
      },
      "source": [
        "x_rand_from_shp = torch.randint(10, shape)\n",
        "x_rand_from_shp"
      ],
      "execution_count": null,
      "outputs": []
    },
    {
      "cell_type": "code",
      "metadata": {
        "colab": {
          "base_uri": "https://localhost:8080/"
        },
        "id": "tL4cbNG0O92o",
        "outputId": "3c8c9b26-0de4-44b3-fdf7-bc4c0cab3d73"
      },
      "source": [
        "print(f'shape: {x_data.shape}')\n",
        "print(f'data type: {x_data.dtype}')\n",
        "print(f'device: {x_data.device}')"
      ],
      "execution_count": null,
      "outputs": [
        {
          "name": "stdout",
          "output_type": "stream",
          "text": [
            "shape: torch.Size([2, 2])\n",
            "data type: torch.int64\n",
            "device: cpu\n"
          ]
        }
      ]
    },
    {
      "cell_type": "code",
      "metadata": {
        "colab": {
          "base_uri": "https://localhost:8080/"
        },
        "id": "jXzSmVmNPmnf",
        "outputId": "d4d92a10-b2f0-43bc-b99b-1c69d10a1e35"
      },
      "source": [
        "if torch.cuda.is_available():\n",
        "    x_data = x_data.to('cuda')\n",
        "    print('moved to cuda')"
      ],
      "execution_count": null,
      "outputs": [
        {
          "name": "stdout",
          "output_type": "stream",
          "text": [
            "moved to cuda\n"
          ]
        }
      ]
    },
    {
      "cell_type": "code",
      "metadata": {
        "id": "SfmWqKBsQHxz"
      },
      "source": [
        "x_data = torch.rand((2,3))"
      ],
      "execution_count": null,
      "outputs": []
    },
    {
      "cell_type": "code",
      "metadata": {
        "colab": {
          "base_uri": "https://localhost:8080/"
        },
        "id": "nLNnCUFmRDxf",
        "outputId": "c6ae4dd1-b9d4-4683-beb2-a47a4bdb1358"
      },
      "source": [
        "x_datas = torch.cat([x_data, x_data])\n",
        "x_datas"
      ],
      "execution_count": null,
      "outputs": [
        {
          "output_type": "execute_result",
          "data": {
            "text/plain": [
              "tensor([[0.2015, 0.6875, 0.9077],\n",
              "        [0.1885, 0.3110, 0.3168],\n",
              "        [0.2015, 0.6875, 0.9077],\n",
              "        [0.1885, 0.3110, 0.3168]], device='cuda:0')"
            ]
          },
          "metadata": {},
          "execution_count": 22
        }
      ]
    },
    {
      "cell_type": "code",
      "metadata": {
        "id": "IJsB6JiGR0mI",
        "colab": {
          "base_uri": "https://localhost:8080/"
        },
        "outputId": "c88c265f-f5de-4b54-f48f-03cc56fddd86"
      },
      "source": [
        "y_datas = torch.cat([x_data, x_data], dim = 1)\n",
        "y_datas"
      ],
      "execution_count": null,
      "outputs": [
        {
          "output_type": "execute_result",
          "data": {
            "text/plain": [
              "tensor([[0.2015, 0.6875, 0.9077, 0.2015, 0.6875, 0.9077],\n",
              "        [0.1885, 0.3110, 0.3168, 0.1885, 0.3110, 0.3168]], device='cuda:0')"
            ]
          },
          "metadata": {},
          "execution_count": 23
        }
      ]
    },
    {
      "cell_type": "code",
      "metadata": {
        "colab": {
          "base_uri": "https://localhost:8080/"
        },
        "id": "3XoXGEzCTDz6",
        "outputId": "df1c7035-d21c-44ad-a197-53e5e11b27b3"
      },
      "source": [
        "print(f'transpose: {x_datas.T}')"
      ],
      "execution_count": null,
      "outputs": [
        {
          "output_type": "stream",
          "text": [
            "transpose: tensor([[0.2015, 0.1885, 0.2015, 0.1885],\n",
            "        [0.6875, 0.3110, 0.6875, 0.3110],\n",
            "        [0.9077, 0.3168, 0.9077, 0.3168]], device='cuda:0')\n"
          ],
          "name": "stdout"
        }
      ]
    },
    {
      "cell_type": "code",
      "metadata": {
        "colab": {
          "base_uri": "https://localhost:8080/"
        },
        "id": "KgS4ieqcTnqv",
        "outputId": "b315dcfc-9990-4d89-c6a3-dc979ecdbcf9"
      },
      "source": [
        "print(x_datas.shape, y_datas.shape)"
      ],
      "execution_count": null,
      "outputs": [
        {
          "output_type": "stream",
          "text": [
            "torch.Size([4, 3]) torch.Size([2, 6])\n"
          ],
          "name": "stdout"
        }
      ]
    },
    {
      "cell_type": "code",
      "metadata": {
        "colab": {
          "base_uri": "https://localhost:8080/"
        },
        "id": "NZ4vA8WUTxGV",
        "outputId": "bc117e86-a89c-44b4-9182-e426d0ba82d0"
      },
      "source": [
        "x_datas = x_datas.reshape((2,6))\n",
        "x_datas.shape"
      ],
      "execution_count": null,
      "outputs": [
        {
          "output_type": "execute_result",
          "data": {
            "text/plain": [
              "torch.Size([2, 6])"
            ]
          },
          "metadata": {},
          "execution_count": 28
        }
      ]
    },
    {
      "cell_type": "code",
      "metadata": {
        "colab": {
          "base_uri": "https://localhost:8080/"
        },
        "id": "xB0mibBJTMXC",
        "outputId": "7389f278-bba8-4d94-c28c-471b21eab04e"
      },
      "source": [
        "print(f'matrix maltiplicaton: {x_datas.matmul(y_datas.T)}')\n",
        "print(f'matrix maltiplicaton alt syntax: {x_datas @ y_datas.T}')"
      ],
      "execution_count": null,
      "outputs": [
        {
          "output_type": "stream",
          "text": [
            "matrix maltiplicaton: tensor([[1.8764, 0.7720],\n",
            "        [1.8764, 0.7720]], device='cuda:0')\n",
            "matrix maltiplicaton alt syntax: tensor([[1.8764, 0.7720],\n",
            "        [1.8764, 0.7720]], device='cuda:0')\n"
          ],
          "name": "stdout"
        }
      ]
    },
    {
      "cell_type": "code",
      "metadata": {
        "colab": {
          "base_uri": "https://localhost:8080/"
        },
        "id": "iDGRJU3AUEz1",
        "outputId": "6ddc341e-2e5a-43dd-bb27-3101dee80c67"
      },
      "source": [
        "x_datas"
      ],
      "execution_count": null,
      "outputs": [
        {
          "output_type": "execute_result",
          "data": {
            "text/plain": [
              "tensor([[0.2015, 0.6875, 0.9077, 0.1885, 0.3110, 0.3168],\n",
              "        [0.2015, 0.6875, 0.9077, 0.1885, 0.3110, 0.3168]], device='cuda:0')"
            ]
          },
          "metadata": {},
          "execution_count": 31
        }
      ]
    },
    {
      "cell_type": "code",
      "metadata": {
        "colab": {
          "base_uri": "https://localhost:8080/",
          "height": 178
        },
        "id": "sZyedjnaUaBo",
        "outputId": "b42ce3b9-4099-4d7f-8c3f-39443bf559d9"
      },
      "source": [
        "x_datas.matmul(y_datas.T)\n",
        "x_datas"
      ],
      "execution_count": null,
      "outputs": [
        {
          "output_type": "error",
          "ename": "AttributeError",
          "evalue": "ignored",
          "traceback": [
            "\u001b[0;31m---------------------------------------------------------------------------\u001b[0m",
            "\u001b[0;31mAttributeError\u001b[0m                            Traceback (most recent call last)",
            "\u001b[0;32m<ipython-input-32-e38110daff6a>\u001b[0m in \u001b[0;36m<module>\u001b[0;34m()\u001b[0m\n\u001b[0;32m----> 1\u001b[0;31m \u001b[0mx_datas\u001b[0m\u001b[0;34m.\u001b[0m\u001b[0mmatmul_\u001b[0m\u001b[0;34m(\u001b[0m\u001b[0my_datas\u001b[0m\u001b[0;34m.\u001b[0m\u001b[0mT\u001b[0m\u001b[0;34m)\u001b[0m\u001b[0;34m\u001b[0m\u001b[0;34m\u001b[0m\u001b[0m\n\u001b[0m\u001b[1;32m      2\u001b[0m \u001b[0mx_datas\u001b[0m\u001b[0;34m\u001b[0m\u001b[0;34m\u001b[0m\u001b[0m\n",
            "\u001b[0;31mAttributeError\u001b[0m: 'Tensor' object has no attribute 'matmul_'"
          ]
        }
      ]
    },
    {
      "cell_type": "code",
      "metadata": {
        "id": "yQtDBy02Ueku"
      },
      "source": [
        "n = np.ones((2,3))\n",
        "t = torch.from_numpy(n)"
      ],
      "execution_count": null,
      "outputs": []
    },
    {
      "cell_type": "code",
      "metadata": {
        "id": "PK3QUpWEU-4x"
      },
      "source": [
        "n[0,0] = 5"
      ],
      "execution_count": null,
      "outputs": []
    },
    {
      "cell_type": "code",
      "metadata": {
        "colab": {
          "base_uri": "https://localhost:8080/"
        },
        "id": "jWYi98UxVIIb",
        "outputId": "c2f92606-bcc2-4f5e-b183-80683a6454b1"
      },
      "source": [
        "print(n)\n",
        "print(t)"
      ],
      "execution_count": null,
      "outputs": [
        {
          "output_type": "stream",
          "text": [
            "[[5. 1. 1.]\n",
            " [1. 1. 1.]]\n",
            "tensor([[5., 1., 1.],\n",
            "        [1., 1., 1.]], dtype=torch.float64)\n"
          ],
          "name": "stdout"
        }
      ]
    },
    {
      "cell_type": "markdown",
      "metadata": {
        "id": "8It2rjZ1a1M1"
      },
      "source": [
        "# Autograd"
      ]
    },
    {
      "cell_type": "code",
      "metadata": {
        "id": "mcJsxYhsazgd"
      },
      "source": [
        "import torch, torchvision"
      ],
      "execution_count": null,
      "outputs": []
    },
    {
      "cell_type": "code",
      "metadata": {
        "colab": {
          "base_uri": "https://localhost:8080/",
          "height": 66,
          "referenced_widgets": [
            "576e3175fcdf4ebca969a7faee76b47d",
            "f07416f2acc9436f9d59cb3d10e0893d",
            "2ac7d688715d4b99bf4feec119f618f6",
            "da44cfffec5a40a699132cfb72010943",
            "68bb8dca8d214fd9bd3a6d603cfcb7dd",
            "b301dc2358bf477ca0e8b481d9c3bc6f",
            "e36b834e545a4f94823cecc724475edd",
            "9abe3f80a83943fe8b4aab5a2ac341ad",
            "dd8263b321c24ca288ad595822481f77",
            "6ec8aabfde7645a9b0ac358c35f3fa1b",
            "d3810574d2f34a088d9aed8b75bea749"
          ]
        },
        "id": "pbGl6u9ja7J8",
        "outputId": "5b3ecc1d-c592-4297-c341-b04af4bd1b54"
      },
      "source": [
        "model = torchvision.models.resnet18(pretrained=True)"
      ],
      "execution_count": null,
      "outputs": [
        {
          "output_type": "stream",
          "text": [
            "Downloading: \"https://download.pytorch.org/models/resnet18-f37072fd.pth\" to /root/.cache/torch/hub/checkpoints/resnet18-f37072fd.pth\n"
          ],
          "name": "stderr"
        },
        {
          "output_type": "display_data",
          "data": {
            "application/vnd.jupyter.widget-view+json": {
              "model_id": "576e3175fcdf4ebca969a7faee76b47d",
              "version_minor": 0,
              "version_major": 2
            },
            "text/plain": [
              "  0%|          | 0.00/44.7M [00:00<?, ?B/s]"
            ]
          },
          "metadata": {}
        }
      ]
    },
    {
      "cell_type": "code",
      "metadata": {
        "colab": {
          "base_uri": "https://localhost:8080/"
        },
        "id": "XhB61q-HbGaj",
        "outputId": "6919ef3e-8511-4138-c9d1-dcd499899eae"
      },
      "source": [
        "data = torch.rand(1,3,64,64) # a random image with 3 channels and 64x64 \n",
        "print(data.shape)\n",
        "data"
      ],
      "execution_count": null,
      "outputs": [
        {
          "output_type": "stream",
          "text": [
            "torch.Size([1, 3, 64, 64])\n"
          ],
          "name": "stdout"
        },
        {
          "output_type": "execute_result",
          "data": {
            "text/plain": [
              "tensor([[[[0.7544, 0.7226, 0.3943,  ..., 0.7673, 0.6622, 0.3246],\n",
              "          [0.5991, 0.0591, 0.6115,  ..., 0.9503, 0.3603, 0.9536],\n",
              "          [0.3595, 0.3437, 0.6314,  ..., 0.6696, 0.3142, 0.8761],\n",
              "          ...,\n",
              "          [0.0774, 0.6118, 0.0609,  ..., 0.3632, 0.6090, 0.2227],\n",
              "          [0.0494, 0.7287, 0.9108,  ..., 0.9454, 0.7121, 0.3027],\n",
              "          [0.7142, 0.1339, 0.6996,  ..., 0.9496, 0.9328, 0.6170]],\n",
              "\n",
              "         [[0.3729, 0.3695, 0.0826,  ..., 0.9217, 0.8404, 0.0652],\n",
              "          [0.1023, 0.5429, 0.3252,  ..., 0.2894, 0.3000, 0.7113],\n",
              "          [0.6419, 0.8948, 0.1565,  ..., 0.9204, 0.2422, 0.8927],\n",
              "          ...,\n",
              "          [0.7249, 0.4203, 0.1191,  ..., 0.4039, 0.6908, 0.9257],\n",
              "          [0.5653, 0.9363, 0.0557,  ..., 0.2739, 0.6801, 0.0555],\n",
              "          [0.7604, 0.6838, 0.0502,  ..., 0.2725, 0.6428, 0.0183]],\n",
              "\n",
              "         [[0.8409, 0.0914, 0.6379,  ..., 0.1341, 0.6094, 0.6641],\n",
              "          [0.0286, 0.2175, 0.2774,  ..., 0.7982, 0.1510, 0.7056],\n",
              "          [0.7232, 0.5579, 0.3318,  ..., 0.6045, 0.0786, 0.2695],\n",
              "          ...,\n",
              "          [0.0375, 0.9338, 0.9318,  ..., 0.9152, 0.4189, 0.4723],\n",
              "          [0.5474, 0.1465, 0.0929,  ..., 0.2360, 0.6943, 0.7875],\n",
              "          [0.6073, 0.5944, 0.0313,  ..., 0.5919, 0.1307, 0.6125]]]])"
            ]
          },
          "metadata": {},
          "execution_count": 3
        }
      ]
    },
    {
      "cell_type": "code",
      "metadata": {
        "id": "d_TdTmszbMTF"
      },
      "source": [
        "labels = torch.rand(1, 1000) # why 1000???"
      ],
      "execution_count": null,
      "outputs": []
    },
    {
      "cell_type": "code",
      "metadata": {
        "id": "Yia_ab61bUSj"
      },
      "source": [
        "prediction = model(data) # forward pass"
      ],
      "execution_count": null,
      "outputs": []
    },
    {
      "cell_type": "code",
      "metadata": {
        "colab": {
          "base_uri": "https://localhost:8080/"
        },
        "id": "g7Igb985bhlM",
        "outputId": "92a99231-1fd6-46a7-e28b-78904fa055ed"
      },
      "source": [
        "prediction.shape"
      ],
      "execution_count": null,
      "outputs": [
        {
          "output_type": "execute_result",
          "data": {
            "text/plain": [
              "torch.Size([1, 1000])"
            ]
          },
          "metadata": {},
          "execution_count": 6
        }
      ]
    },
    {
      "cell_type": "code",
      "metadata": {
        "id": "5NpWgUcRZRBA"
      },
      "source": [
        "loss = (prediction - labels).sum() # calc loss"
      ],
      "execution_count": null,
      "outputs": []
    },
    {
      "cell_type": "code",
      "metadata": {
        "id": "YyWe3Gesbx8g",
        "colab": {
          "base_uri": "https://localhost:8080/"
        },
        "outputId": "c34cd645-ae66-43d4-d617-56a13fe2726b"
      },
      "source": [
        "loss"
      ],
      "execution_count": null,
      "outputs": [
        {
          "output_type": "execute_result",
          "data": {
            "text/plain": [
              "tensor(-485.9171, grad_fn=<SumBackward0>)"
            ]
          },
          "metadata": {},
          "execution_count": 8
        }
      ]
    },
    {
      "cell_type": "code",
      "metadata": {
        "id": "cFo2q5auZnVr"
      },
      "source": [
        "loss.backward() # backward pass"
      ],
      "execution_count": null,
      "outputs": []
    },
    {
      "cell_type": "code",
      "metadata": {
        "id": "gmBqtMCZb6Dh"
      },
      "source": [
        "optim = torch.optim.SGD(model.parameters(), lr = 1e-2, momentum=0.9)"
      ],
      "execution_count": null,
      "outputs": []
    },
    {
      "cell_type": "code",
      "metadata": {
        "id": "tmpCZ8_daFRy"
      },
      "source": [
        "optim.step() # gradient descent"
      ],
      "execution_count": null,
      "outputs": []
    },
    {
      "cell_type": "code",
      "metadata": {
        "id": "TqhJ_qYbi-F5"
      },
      "source": [
        "params = list(model.parameters())"
      ],
      "execution_count": null,
      "outputs": []
    },
    {
      "cell_type": "code",
      "metadata": {
        "id": "i52CKvCNi-7C"
      },
      "source": [
        "param = params[0]"
      ],
      "execution_count": null,
      "outputs": []
    },
    {
      "cell_type": "code",
      "metadata": {
        "colab": {
          "base_uri": "https://localhost:8080/"
        },
        "id": "bx0H8JgQjo7k",
        "outputId": "2fdfdf59-b16c-4b30-d7a5-258d2e4f5090"
      },
      "source": [
        "param.grad"
      ],
      "execution_count": null,
      "outputs": [
        {
          "output_type": "execute_result",
          "data": {
            "text/plain": [
              "tensor([[[[-2.5411e+01,  9.7053e+00, -4.5538e+01,  ..., -4.6628e+01,\n",
              "           -8.7299e+01, -5.4762e+01],\n",
              "          [ 7.3630e+01,  5.1531e+00,  1.4351e+01,  ...,  7.2962e+01,\n",
              "           -7.8546e+01, -6.0617e+00],\n",
              "          [ 1.5230e+01,  4.3388e+01, -3.7539e+01,  ..., -1.4777e+01,\n",
              "            8.3137e+00, -3.4440e+01],\n",
              "          ...,\n",
              "          [ 4.3696e+01,  9.0835e+01, -3.8265e+01,  ...,  8.7636e-01,\n",
              "            2.6892e+01, -2.0130e+01],\n",
              "          [ 5.7762e+01, -3.4202e+01,  1.2391e+02,  ..., -2.3851e+01,\n",
              "            5.5133e+01, -8.0320e+00],\n",
              "          [-7.6307e+00,  4.5662e+01, -3.1995e+01,  ...,  7.7953e+01,\n",
              "           -1.6599e+01, -6.7856e+01]],\n",
              "\n",
              "         [[-3.0784e+01,  5.1581e+01, -3.5917e+01,  ..., -1.7303e+01,\n",
              "            1.9429e+01,  1.4000e+01],\n",
              "          [ 5.1819e+01, -1.8467e+01,  6.8262e+00,  ..., -1.1122e+01,\n",
              "           -5.5078e+01, -2.4129e+01],\n",
              "          [ 3.4371e+01, -2.5079e+00,  5.1087e+01,  ...,  9.3108e-01,\n",
              "            5.3446e+01,  3.7560e+01],\n",
              "          ...,\n",
              "          [ 3.6146e+01,  3.5590e+01, -7.2425e+01,  ..., -5.1482e+01,\n",
              "            8.0528e+01,  1.7665e+01],\n",
              "          [-4.5773e+01, -1.0939e+02,  5.8537e+01,  ..., -1.5531e+01,\n",
              "           -1.8384e+01, -7.1143e+01],\n",
              "          [ 1.7326e+01, -6.3513e+01,  1.1699e+01,  ...,  3.2218e+01,\n",
              "            9.3854e+00,  3.6433e+01]],\n",
              "\n",
              "         [[-6.7802e+00,  6.9446e+01, -9.7925e+01,  ..., -4.7761e+01,\n",
              "            6.9624e+01, -1.2093e+02],\n",
              "          [-8.0936e+01,  4.7305e+01, -3.2548e+01,  ...,  4.7192e+01,\n",
              "           -8.5128e+01, -1.5829e+01],\n",
              "          [ 7.5170e+01,  1.7053e+01,  6.2353e+01,  ...,  1.1843e+02,\n",
              "           -3.0746e+01,  1.5469e+02],\n",
              "          ...,\n",
              "          [-6.2406e+01, -1.2823e+01, -7.5958e+01,  ..., -3.2509e+01,\n",
              "            1.3836e+01, -4.2530e+01],\n",
              "          [-5.8551e+01,  2.4129e+00, -3.1268e+01,  ...,  4.0826e+01,\n",
              "           -4.9746e+01,  2.4273e+00],\n",
              "          [ 4.5746e+00, -2.7128e+01,  9.0738e+01,  ...,  5.5208e+01,\n",
              "           -2.4184e+01,  5.3308e+01]]],\n",
              "\n",
              "\n",
              "        [[[-2.4272e+01,  2.7262e+01, -7.0731e+01,  ...,  1.5672e+01,\n",
              "            1.0989e+02, -1.3925e+02],\n",
              "          [-9.7591e+00, -1.0586e+01, -2.2796e+01,  ..., -4.9191e+01,\n",
              "           -5.9864e+01, -2.3947e+00],\n",
              "          [ 1.3177e+02, -7.9508e+01, -1.0483e+01,  ..., -5.7387e+01,\n",
              "            6.6632e+01,  1.6486e+01],\n",
              "          ...,\n",
              "          [-1.0874e+01,  6.0192e+01, -1.2293e+02,  ..., -8.7238e+01,\n",
              "            2.1386e+01, -5.1466e+01],\n",
              "          [ 2.3194e+01, -3.0240e+01, -8.9285e+01,  ...,  7.2420e+00,\n",
              "           -5.7575e+01,  1.0417e+02],\n",
              "          [ 6.4418e+00,  6.6373e+01,  2.9331e+01,  ...,  3.1248e+01,\n",
              "            2.7999e+01, -7.2339e+01]],\n",
              "\n",
              "         [[-1.6485e+02,  8.0367e+01,  2.0225e+01,  ...,  5.9450e+01,\n",
              "            5.3172e+01,  1.1387e+01],\n",
              "          [-5.9667e+00, -2.3202e+01, -5.8437e+01,  ..., -7.1035e+01,\n",
              "           -9.8846e+01, -1.0989e+02],\n",
              "          [-1.5178e+02, -1.0425e+02,  1.8168e+01,  ..., -4.9351e+01,\n",
              "            1.4698e+01,  3.3719e+01],\n",
              "          ...,\n",
              "          [ 1.2058e+01,  2.0321e+01, -4.8834e+01,  ..., -9.9720e+01,\n",
              "           -1.0191e+02, -5.8103e+01],\n",
              "          [ 1.2747e+01,  1.1033e+02,  1.0462e+02,  ...,  6.4057e+01,\n",
              "           -9.8633e+01,  1.2319e+02],\n",
              "          [-9.4222e+00, -1.1057e+02, -4.2567e+00,  ..., -2.1565e+01,\n",
              "            8.9355e+01,  5.7343e+01]],\n",
              "\n",
              "         [[-3.6881e+01,  1.4345e+01,  1.2161e+02,  ..., -3.3190e+01,\n",
              "            6.0551e+01, -4.9960e+01],\n",
              "          [ 4.2248e+00, -9.9732e+01, -4.2825e+01,  ..., -6.7896e+01,\n",
              "            1.0037e+02, -1.2498e+02],\n",
              "          [-4.6487e+01, -9.2578e+00, -5.6008e+01,  ...,  1.5462e+02,\n",
              "            6.8473e+01,  3.3391e+01],\n",
              "          ...,\n",
              "          [ 1.6103e+01,  1.7615e+01, -2.0069e+01,  ..., -2.8527e+01,\n",
              "           -2.4260e+01,  8.9363e+01],\n",
              "          [-1.4155e+02,  2.5195e+01, -2.3405e+01,  ..., -3.3922e+01,\n",
              "            3.3383e+00,  8.1533e+00],\n",
              "          [ 2.4884e+01, -2.8906e+01, -2.9115e+01,  ..., -1.7125e+01,\n",
              "            1.1858e+02,  2.6583e+01]]],\n",
              "\n",
              "\n",
              "        [[[ 0.0000e+00,  0.0000e+00,  0.0000e+00,  ...,  0.0000e+00,\n",
              "            0.0000e+00,  0.0000e+00],\n",
              "          [ 0.0000e+00,  0.0000e+00,  0.0000e+00,  ...,  0.0000e+00,\n",
              "            0.0000e+00,  0.0000e+00],\n",
              "          [ 0.0000e+00,  0.0000e+00,  0.0000e+00,  ...,  0.0000e+00,\n",
              "            0.0000e+00,  0.0000e+00],\n",
              "          ...,\n",
              "          [ 0.0000e+00,  0.0000e+00,  0.0000e+00,  ...,  0.0000e+00,\n",
              "            0.0000e+00,  0.0000e+00],\n",
              "          [ 0.0000e+00,  0.0000e+00,  0.0000e+00,  ...,  0.0000e+00,\n",
              "            0.0000e+00,  0.0000e+00],\n",
              "          [ 0.0000e+00,  0.0000e+00,  0.0000e+00,  ...,  0.0000e+00,\n",
              "            0.0000e+00,  0.0000e+00]],\n",
              "\n",
              "         [[ 0.0000e+00,  0.0000e+00,  0.0000e+00,  ...,  0.0000e+00,\n",
              "            0.0000e+00,  0.0000e+00],\n",
              "          [ 0.0000e+00,  0.0000e+00,  0.0000e+00,  ...,  0.0000e+00,\n",
              "            0.0000e+00,  0.0000e+00],\n",
              "          [ 0.0000e+00,  0.0000e+00,  0.0000e+00,  ...,  0.0000e+00,\n",
              "            0.0000e+00,  0.0000e+00],\n",
              "          ...,\n",
              "          [ 0.0000e+00,  0.0000e+00,  0.0000e+00,  ...,  0.0000e+00,\n",
              "            0.0000e+00,  0.0000e+00],\n",
              "          [ 0.0000e+00,  0.0000e+00,  0.0000e+00,  ...,  0.0000e+00,\n",
              "            0.0000e+00,  0.0000e+00],\n",
              "          [ 0.0000e+00,  0.0000e+00,  0.0000e+00,  ...,  0.0000e+00,\n",
              "            0.0000e+00,  0.0000e+00]],\n",
              "\n",
              "         [[ 0.0000e+00,  0.0000e+00,  0.0000e+00,  ...,  0.0000e+00,\n",
              "            0.0000e+00,  0.0000e+00],\n",
              "          [ 0.0000e+00,  0.0000e+00,  0.0000e+00,  ...,  0.0000e+00,\n",
              "            0.0000e+00,  0.0000e+00],\n",
              "          [ 0.0000e+00,  0.0000e+00,  0.0000e+00,  ...,  0.0000e+00,\n",
              "            0.0000e+00,  0.0000e+00],\n",
              "          ...,\n",
              "          [ 0.0000e+00,  0.0000e+00,  0.0000e+00,  ...,  0.0000e+00,\n",
              "            0.0000e+00,  0.0000e+00],\n",
              "          [ 0.0000e+00,  0.0000e+00,  0.0000e+00,  ...,  0.0000e+00,\n",
              "            0.0000e+00,  0.0000e+00],\n",
              "          [ 0.0000e+00,  0.0000e+00,  0.0000e+00,  ...,  0.0000e+00,\n",
              "            0.0000e+00,  0.0000e+00]]],\n",
              "\n",
              "\n",
              "        ...,\n",
              "\n",
              "\n",
              "        [[[ 5.5981e+02,  3.3785e+01,  1.1984e+02,  ...,  5.8174e+01,\n",
              "            1.1815e+01,  3.4891e+02],\n",
              "          [ 4.7178e+02,  2.5839e+02,  9.8144e+01,  ...,  2.7893e+02,\n",
              "           -1.5121e+02, -4.3924e+01],\n",
              "          [ 2.3547e+02,  1.3870e+02,  2.7418e+02,  ...,  3.2930e+02,\n",
              "            2.2007e+02,  2.8653e+02],\n",
              "          ...,\n",
              "          [ 4.6853e+02,  4.2665e+01,  1.4487e+02,  ..., -7.1375e+00,\n",
              "            2.5457e+02,  3.7625e+01],\n",
              "          [ 9.0360e+00, -4.8268e+01, -4.3012e+01,  ..., -2.1252e+02,\n",
              "           -3.8002e+02, -1.5481e+02],\n",
              "          [ 4.2378e+02,  9.1056e+01, -1.9607e+00,  ...,  4.4635e+02,\n",
              "           -5.1747e+01, -2.1627e+02]],\n",
              "\n",
              "         [[ 5.7577e+01,  1.5615e+02,  1.4761e+02,  ...,  1.4409e+02,\n",
              "            1.3580e+02, -1.1204e+01],\n",
              "          [ 4.5912e+02,  8.5408e+01, -2.2785e+01,  ...,  3.4661e+01,\n",
              "            4.1680e+02,  4.9931e+02],\n",
              "          [ 3.7116e+02,  4.5991e+01,  1.0478e+02,  ...,  3.2860e+02,\n",
              "            4.0060e+02, -1.4917e+01],\n",
              "          ...,\n",
              "          [ 1.6325e+02,  2.1533e+02,  2.7951e+02,  ..., -1.7488e+02,\n",
              "            3.6064e+02, -4.6218e+01],\n",
              "          [ 2.8410e+02,  1.8855e+02,  1.3794e+02,  ..., -7.1946e+01,\n",
              "            5.1729e+01,  3.2038e+02],\n",
              "          [ 1.6851e+02, -1.3103e+02, -2.9309e+02,  ...,  1.2201e+02,\n",
              "            7.3985e+01, -8.1539e+01]],\n",
              "\n",
              "         [[ 3.1335e+01,  3.4651e+02, -4.0139e+01,  ..., -3.9407e+02,\n",
              "           -2.1025e+02,  7.1659e+01],\n",
              "          [ 3.8724e+02,  4.5735e+02,  2.1160e+02,  ..., -2.7575e+02,\n",
              "            1.2186e+02, -1.1101e+02],\n",
              "          [ 2.8405e+02,  5.2230e+01,  3.0792e+02,  ...,  2.1266e+02,\n",
              "            1.0976e+02, -1.2172e+02],\n",
              "          ...,\n",
              "          [ 1.6238e+02, -5.4905e+01,  5.2242e+02,  ..., -1.8923e+02,\n",
              "           -5.5010e+02,  8.4600e+00],\n",
              "          [ 1.3818e+02,  4.4383e+02, -3.6282e-01,  ..., -3.1553e+01,\n",
              "            1.0174e+01,  2.0892e+02],\n",
              "          [ 4.3053e+02, -1.9834e+02,  1.2514e+02,  ...,  1.3807e+02,\n",
              "           -3.9240e+02, -2.6045e+01]]],\n",
              "\n",
              "\n",
              "        [[[-1.4169e+02, -2.3374e+01, -1.2339e+02,  ..., -2.7772e+02,\n",
              "           -1.4298e+02, -8.9572e+01],\n",
              "          [-1.6945e+02,  2.6767e+01, -6.5877e+01,  ...,  6.8455e+01,\n",
              "           -2.1622e+01, -7.8601e+00],\n",
              "          [ 1.3489e+02, -9.3301e+01, -1.0256e+02,  ...,  5.5386e+01,\n",
              "           -1.6397e+02, -1.3393e+02],\n",
              "          ...,\n",
              "          [-7.4172e+01, -1.0771e+02, -1.2268e+02,  ...,  3.7374e+01,\n",
              "            6.7093e+01, -1.1958e+02],\n",
              "          [ 9.5839e+01, -1.7385e+02, -1.0977e+02,  ...,  1.0214e+02,\n",
              "           -6.8326e+01, -3.1478e+01],\n",
              "          [-5.7892e+01, -1.3241e+02, -1.5249e+02,  ..., -1.3455e+02,\n",
              "           -2.9979e+01, -1.6377e+01]],\n",
              "\n",
              "         [[-9.6341e+01, -1.6553e+01,  3.1945e+00,  ..., -1.2883e+02,\n",
              "           -1.6578e+02, -2.3850e+02],\n",
              "          [-5.5148e+00,  2.5705e+01,  9.6990e+01,  ..., -7.9329e+01,\n",
              "            4.3569e+01,  1.0357e+01],\n",
              "          [ 4.4475e+00,  7.6000e+00, -1.1993e+02,  ..., -8.8187e+01,\n",
              "            1.4121e+01, -1.0813e+02],\n",
              "          ...,\n",
              "          [-6.1422e+01, -9.2795e+01,  2.0321e+02,  ..., -1.9142e+02,\n",
              "            2.9120e+01, -7.6677e+01],\n",
              "          [ 9.3378e+01,  1.0450e+01,  9.0166e+01,  ...,  6.1275e+01,\n",
              "            1.1240e+02,  2.0640e+02],\n",
              "          [ 2.2152e+02,  1.1232e+02,  7.5064e+01,  ...,  1.8545e+02,\n",
              "           -1.2670e+02, -1.7447e+02]],\n",
              "\n",
              "         [[-3.1858e+01, -2.4894e+02, -8.2622e+01,  ..., -1.3956e+02,\n",
              "           -2.3254e+02, -1.2327e+01],\n",
              "          [ 1.5377e+02, -1.2337e+02,  7.0470e+01,  ..., -5.7392e+01,\n",
              "           -1.1487e+02,  4.1623e+01],\n",
              "          [ 5.8535e+01,  5.8116e+01, -5.2568e+01,  ..., -4.2335e+01,\n",
              "           -4.6563e+01, -3.2398e+01],\n",
              "          ...,\n",
              "          [ 5.3470e+01, -9.9242e+01, -1.9435e+01,  ...,  5.3493e+01,\n",
              "           -1.4156e+02, -3.3412e+01],\n",
              "          [ 1.0533e+02, -2.3704e+01, -1.1529e+02,  ..., -2.2470e+02,\n",
              "            2.2200e+02, -8.5615e+01],\n",
              "          [-5.2772e+01,  4.2683e+01, -8.4843e+01,  ..., -1.0566e+01,\n",
              "            1.5896e+02,  1.6338e+02]]],\n",
              "\n",
              "\n",
              "        [[[-1.4872e+02, -1.1430e+02, -9.4163e-01,  ..., -1.7315e+01,\n",
              "           -1.0029e+01, -1.2498e+02],\n",
              "          [ 1.1251e+02, -8.3853e+01, -8.1200e+01,  ..., -5.8368e+01,\n",
              "           -7.0785e+01, -8.2485e+01],\n",
              "          [-9.8697e+01,  4.8706e+01, -2.5884e+01,  ...,  1.6484e+01,\n",
              "           -1.4885e+02, -2.3783e+02],\n",
              "          ...,\n",
              "          [ 1.3832e+02,  4.4297e+01,  3.0321e+01,  ..., -2.2155e+01,\n",
              "           -1.8757e+02, -1.2249e+02],\n",
              "          [ 2.2813e+00,  2.5205e+00, -3.7108e+01,  ..., -6.2792e+01,\n",
              "           -1.0135e+02,  1.8692e+01],\n",
              "          [-6.1435e+01,  9.5607e+01, -4.2124e+00,  ...,  1.5652e+02,\n",
              "           -2.2146e+02, -6.0392e+01]],\n",
              "\n",
              "         [[-9.8289e+01, -8.1894e+01,  1.4069e+02,  ..., -1.3282e+02,\n",
              "            8.3930e+00, -1.8263e+02],\n",
              "          [ 1.2396e+02, -1.0795e+02, -2.4369e+02,  ...,  2.9039e+01,\n",
              "           -5.5699e+01, -8.6260e+01],\n",
              "          [-1.4047e+02,  5.3691e+01, -1.5756e+02,  ...,  6.0850e+01,\n",
              "           -2.2741e+01, -1.9630e+01],\n",
              "          ...,\n",
              "          [ 6.8225e+01,  5.2505e+01, -7.9501e+01,  ..., -5.7577e+01,\n",
              "            5.5996e+01,  1.0663e+02],\n",
              "          [-1.4224e+02, -1.0812e+02, -1.3692e+02,  ..., -8.2627e+01,\n",
              "           -1.5406e+02, -6.7398e+01],\n",
              "          [-1.6271e+02, -1.2144e+01,  1.8590e+02,  ..., -4.4005e+01,\n",
              "            1.2478e+02,  1.0207e+02]],\n",
              "\n",
              "         [[ 2.0077e+01, -1.5244e+01,  2.6260e+01,  ...,  1.1855e+01,\n",
              "            9.3572e+00, -6.6904e+01],\n",
              "          [ 1.1598e+02,  2.7643e+01,  7.3733e+01,  ..., -2.4025e+02,\n",
              "           -5.3992e+01, -2.9215e+01],\n",
              "          [-8.0313e+01,  1.5462e+01,  3.7906e+01,  ..., -9.4055e+01,\n",
              "           -5.8852e+01, -1.5494e+02],\n",
              "          ...,\n",
              "          [-4.2637e+01, -3.4464e+01,  2.8191e+01,  ...,  5.6654e+01,\n",
              "           -1.0988e+02,  2.4444e+01],\n",
              "          [-9.7773e+01, -1.6027e+01,  7.9196e+01,  ...,  5.9128e+01,\n",
              "           -2.1819e+02, -1.2415e+02],\n",
              "          [ 5.7323e+01, -1.9072e+02, -6.6147e+01,  ...,  1.1793e+02,\n",
              "           -2.9504e+02, -5.2800e+01]]]])"
            ]
          },
          "metadata": {},
          "execution_count": 74
        }
      ]
    },
    {
      "cell_type": "markdown",
      "metadata": {
        "id": "BXeOwKC-ahnf"
      },
      "source": [
        "###  summary"
      ]
    },
    {
      "cell_type": "code",
      "metadata": {
        "id": "nd9ifSAWdHDa",
        "colab": {
          "base_uri": "https://localhost:8080/"
        },
        "outputId": "7681f7d6-e24a-4ba3-8b5a-13f88b6a93ae"
      },
      "source": [
        "'''\n",
        "torch.Tensor - A multi-dimensional array with support for autograd operations \n",
        "like backward(). Also holds the gradient w.r.t. the tensor.\n",
        "'''\n",
        "\n",
        "import torch, torchvision\n",
        "\n",
        "# model\n",
        "model = torchvision.models.resnet18(pretrained=True)\n",
        "optim = torch.optim.SGD(model.parameters(), lr=0.01, momentum=0.9)\n",
        "\n",
        "# data \n",
        "data = torch.rand(10, 3, 64, 64)\n",
        "labels = torch.rand(10, 1000)\n",
        "\n",
        "# train\n",
        "## forward\n",
        "preds = model(data)\n",
        "print(preds)\n",
        "\n",
        "## backward\n",
        "loss = (preds - labels).sum()\n",
        "loss.backward()\n",
        "\n",
        "## grad descent\n",
        "optim.step()\n"
      ],
      "execution_count": null,
      "outputs": [
        {
          "output_type": "stream",
          "text": [
            "tensor([[-2.1083,  1.6453, -3.4458,  ..., -2.0402,  0.2954, -0.2708],\n",
            "        [-2.3498, -3.3144, -1.5811,  ..., -2.0387, -0.9203,  2.3150],\n",
            "        [ 2.0217,  1.0369,  1.7025,  ...,  1.2148,  2.4200,  0.5335],\n",
            "        ...,\n",
            "        [ 7.1521,  0.3875,  7.2461,  ...,  2.2688, -0.9485,  1.2029],\n",
            "        [-2.9193, -0.7262, -2.3742,  ..., -1.7138,  1.5264,  1.2083],\n",
            "        [-1.4755,  0.5997,  0.7267,  ..., -0.9936, -2.8550,  4.3110]],\n",
            "       grad_fn=<AddmmBackward>)\n"
          ],
          "name": "stdout"
        }
      ]
    },
    {
      "cell_type": "code",
      "metadata": {
        "colab": {
          "base_uri": "https://localhost:8080/"
        },
        "id": "R1Excf6Zbvwu",
        "outputId": "c11a2eab-36e9-4ab0-d2ed-cbefc2d70615"
      },
      "source": [
        "loss.item()"
      ],
      "execution_count": null,
      "outputs": [
        {
          "output_type": "execute_result",
          "data": {
            "text/plain": [
              "-4928.3212890625"
            ]
          },
          "metadata": {},
          "execution_count": 6
        }
      ]
    },
    {
      "cell_type": "markdown",
      "metadata": {
        "id": "5IiLqJzV-S1V"
      },
      "source": [
        "# Neural Net"
      ]
    },
    {
      "cell_type": "code",
      "metadata": {
        "id": "Iz0sVyg0eG9-"
      },
      "source": [
        "'''\n",
        "- torch.nn only supports mini-batches. The entire torch.nn package only supports \n",
        "  inputs that are a mini-batch of samples, and not a single sample.\n",
        "- For example, nn.Conv2d will take in \n",
        "  a 4D Tensor of nSamples x nChannels x Height x Width.\n",
        "- If you have a single sample, just use input.unsqueeze(0) to add a fake batch \n",
        "  dimension.\n",
        "'''\n",
        "import torch\n",
        "import torch.nn as nn\n",
        "import torch.nn.functional as f\n",
        "'''\n",
        "autograd.Function - Implements forward and backward definitions of an autograd \n",
        "operation. Every Tensor operation creates at least a single Function node that \n",
        "connects to functions that created a Tensor and encodes its history.\n",
        "'''"
      ],
      "execution_count": null,
      "outputs": []
    },
    {
      "cell_type": "code",
      "metadata": {
        "id": "rYw6wZGunETN"
      },
      "source": [
        "import torch, torchvision"
      ],
      "execution_count": null,
      "outputs": []
    },
    {
      "cell_type": "code",
      "metadata": {
        "id": "U9Vyl8V8t00j"
      },
      "source": [
        "device = 'cuda'"
      ],
      "execution_count": null,
      "outputs": []
    },
    {
      "cell_type": "markdown",
      "metadata": {
        "id": "qyPvIAEjyQ4X"
      },
      "source": [
        "## Defining a neural network"
      ]
    },
    {
      "cell_type": "code",
      "metadata": {
        "id": "EeZvZuQm-sgk",
        "colab": {
          "base_uri": "https://localhost:8080/",
          "height": 229
        },
        "outputId": "31de7702-2e96-4458-dd98-bf7432e86468"
      },
      "source": [
        "''' \n",
        " Note: expected input size of this net (LeNet) is 32x32. \n",
        " To use this net on the MNIST dataset, please resize \n",
        " the images from the dataset to 32x32.\n",
        "'''\n",
        "\n",
        "class Net(nn.Module): \n",
        "    ''' \n",
        "    nn.Module - Neural network module. Convenient way of encapsulating \n",
        "    parameters, with helpers for moving them to GPU, exporting, loading, etc. \n",
        "    '''\n",
        "    def __init__(self):\n",
        "        super(Net, self).__init__()\n",
        "        # 1 input image channel, 6 output channels, 5x5 square convolution kernel\n",
        "        self.conv1 = nn.Conv2d(1, 6, 5)\n",
        "        self.conv2 = nn.Conv2d(6, 16, 5)\n",
        "        # an affine operation: y = Wx + b\n",
        "        self.fc1 = nn.Linear(16*5*5, 120)\n",
        "        self.fc2 = nn.Linear(120, 84)\n",
        "        self.fc3 = nn.Linear(84, 10)\n",
        "\n",
        "    def forward(self, x):\n",
        "        # Max pooling over a (2, 2) window\n",
        "        x = self.conv1(x)\n",
        "        x = f.relu(x)\n",
        "        x = f.max_pool2d(x, (2, 2))\n",
        "\n",
        "        # If the size is a square, you can specify with a single number \n",
        "        x = self.conv2(x)\n",
        "        x = f.relu(x)\n",
        "        x = f.max_pool2d(x, 2)\n",
        "\n",
        "        x = torch.flatten(x)\n",
        "\n",
        "        x = self.fc1(x)\n",
        "        x = f.relu(x)\n",
        "\n",
        "        x = self.fc2(x)\n",
        "        x = f.relu(x)\n",
        "\n",
        "        x = self.fc3(x)\n",
        "\n",
        "        return x"
      ],
      "execution_count": null,
      "outputs": [
        {
          "output_type": "error",
          "ename": "NameError",
          "evalue": "ignored",
          "traceback": [
            "\u001b[0;31m---------------------------------------------------------------------------\u001b[0m",
            "\u001b[0;31mNameError\u001b[0m                                 Traceback (most recent call last)",
            "\u001b[0;32m<ipython-input-42-aba06523ed03>\u001b[0m in \u001b[0;36m<module>\u001b[0;34m()\u001b[0m\n\u001b[1;32m      5\u001b[0m '''\n\u001b[1;32m      6\u001b[0m \u001b[0;34m\u001b[0m\u001b[0m\n\u001b[0;32m----> 7\u001b[0;31m \u001b[0;32mclass\u001b[0m \u001b[0mNet\u001b[0m\u001b[0;34m(\u001b[0m\u001b[0mnn\u001b[0m\u001b[0;34m.\u001b[0m\u001b[0mModule\u001b[0m\u001b[0;34m)\u001b[0m\u001b[0;34m:\u001b[0m\u001b[0;34m\u001b[0m\u001b[0;34m\u001b[0m\u001b[0m\n\u001b[0m\u001b[1;32m      8\u001b[0m     ''' \n\u001b[1;32m      9\u001b[0m     \u001b[0mnn\u001b[0m\u001b[0;34m.\u001b[0m\u001b[0mModule\u001b[0m \u001b[0;34m-\u001b[0m \u001b[0mNeural\u001b[0m \u001b[0mnetwork\u001b[0m \u001b[0mmodule\u001b[0m\u001b[0;34m.\u001b[0m \u001b[0mConvenient\u001b[0m \u001b[0mway\u001b[0m \u001b[0mof\u001b[0m \u001b[0mencapsulating\u001b[0m\u001b[0;34m\u001b[0m\u001b[0;34m\u001b[0m\u001b[0m\n",
            "\u001b[0;31mNameError\u001b[0m: name 'nn' is not defined"
          ]
        }
      ]
    },
    {
      "cell_type": "markdown",
      "metadata": {
        "id": "bPfbY566ySzE"
      },
      "source": [
        "## Processing inputs and calling backward"
      ]
    },
    {
      "cell_type": "code",
      "metadata": {
        "colab": {
          "base_uri": "https://localhost:8080/"
        },
        "id": "PUsjHw1ipKns",
        "outputId": "e6dbf67d-26eb-4cc8-dac7-8c156eb2eb19"
      },
      "source": [
        "'''\n",
        "nn.Parameter - A kind of Tensor, that is automatically registered as a parameter\n",
        " when assigned as an attribute to a Module.\n",
        "'''\n",
        "\n",
        "net = Net().to(device)\n",
        "print(net)\n",
        "\n",
        "params = list(net.parameters())\n",
        "print(len(params))\n",
        "print(params[0].size())  # conv1's .weight\n",
        "\n",
        "for i in range(len(params)):\n",
        "    print('\\t',params[i].size())"
      ],
      "execution_count": null,
      "outputs": [
        {
          "output_type": "stream",
          "text": [
            "Net(\n",
            "  (conv1): Conv2d(1, 6, kernel_size=(5, 5), stride=(1, 1))\n",
            "  (conv2): Conv2d(6, 16, kernel_size=(5, 5), stride=(1, 1))\n",
            "  (fc1): Linear(in_features=400, out_features=120, bias=True)\n",
            "  (fc2): Linear(in_features=120, out_features=84, bias=True)\n",
            "  (fc3): Linear(in_features=84, out_features=10, bias=True)\n",
            ")\n",
            "10\n",
            "torch.Size([6, 1, 5, 5])\n",
            "\t torch.Size([6, 1, 5, 5])\n",
            "\t torch.Size([6])\n",
            "\t torch.Size([16, 6, 5, 5])\n",
            "\t torch.Size([16])\n",
            "\t torch.Size([120, 400])\n",
            "\t torch.Size([120])\n",
            "\t torch.Size([84, 120])\n",
            "\t torch.Size([84])\n",
            "\t torch.Size([10, 84])\n",
            "\t torch.Size([10])\n"
          ],
          "name": "stdout"
        }
      ]
    },
    {
      "cell_type": "code",
      "metadata": {
        "colab": {
          "base_uri": "https://localhost:8080/"
        },
        "id": "EpRG09yCrcfd",
        "outputId": "4a542e88-ca07-43dc-bd10-0a6ee281b6ca"
      },
      "source": [
        "input = torch.randn(1, 1, 32, 32).to(device)\n",
        "out = net(input)\n",
        "print(out)"
      ],
      "execution_count": null,
      "outputs": [
        {
          "output_type": "stream",
          "text": [
            "tensor([ 0.0191,  0.1953, -0.0482,  0.0407,  0.1341,  0.0527,  0.0316, -0.0477,\n",
            "        -0.1078,  0.0124], device='cuda:0', grad_fn=<AddBackward0>)\n"
          ],
          "name": "stdout"
        }
      ]
    },
    {
      "cell_type": "code",
      "metadata": {
        "id": "stcoAKJesL09"
      },
      "source": [
        "net.zero_grad()\n",
        "out.backward(torch.randn(10).to(device))"
      ],
      "execution_count": null,
      "outputs": []
    },
    {
      "cell_type": "code",
      "metadata": {
        "id": "zGNV-Y9bsshu"
      },
      "source": [
        "# model =nn.Sequential(\n",
        "#     nn.Conv2d(3,32,kernel_size=3,padding=1),\n",
        "#     nn.ReLU(),\n",
        "#     nn.Conv2d(32,64,kernel_size=3,stride=1,padding=1),\n",
        "#     nn.ReLU(),\n",
        "#     nn.MaxPool2d(2,2),\n",
        "\n",
        "#     nn.Conv2d(64,128,kernel_size=3,stride=1,padding=1),\n",
        "#     nn.ReLU(),\n",
        "#     nn.Conv2d(128,128,kernel_size=3,stride=1,padding=1),\n",
        "#     nn.ReLU(),\n",
        "#     nn.MaxPool2d(2,2),\n",
        "\n",
        "#     nn.Conv2d(128,256,kernel_size=3,stride=1,padding=1),\n",
        "#     nn.ReLU(),\n",
        "#     nn.Conv2d(256,256,kernel_size=3,stride=1,padding=1),\n",
        "#     nn.ReLU(),\n",
        "#     nn.MaxPool2d(2,2),\n",
        "\n",
        "#     nn.Flatten(),\n",
        "#     nn.Linear(256*4*4,1024),\n",
        "#     nn.ReLU(),\n",
        "#     nn.Linear(1024,512),\n",
        "#     nn.ReLU(),\n",
        "#     nn.Linear(512,10))"
      ],
      "execution_count": null,
      "outputs": []
    },
    {
      "cell_type": "markdown",
      "metadata": {
        "id": "hBp4hjDsyWYs"
      },
      "source": [
        "## computing the loss"
      ]
    },
    {
      "cell_type": "code",
      "metadata": {
        "id": "tkLaz89fyXwI"
      },
      "source": [
        "output = net(input)"
      ],
      "execution_count": null,
      "outputs": []
    },
    {
      "cell_type": "code",
      "metadata": {
        "id": "42co2TgVzkwR"
      },
      "source": [
        "target = torch.randn(10).to(device)"
      ],
      "execution_count": null,
      "outputs": []
    },
    {
      "cell_type": "code",
      "metadata": {
        "colab": {
          "base_uri": "https://localhost:8080/"
        },
        "id": "dvnX_vQfzuIn",
        "outputId": "f15babd0-8437-4f28-952a-aef8bfcb02d2"
      },
      "source": [
        "criterion = nn.MSELoss()\n",
        "loss = criterion(output, target)\n",
        "print(loss)"
      ],
      "execution_count": null,
      "outputs": [
        {
          "output_type": "stream",
          "text": [
            "tensor(0.3280, device='cuda:0', grad_fn=<MseLossBackward>)\n"
          ],
          "name": "stdout"
        }
      ]
    },
    {
      "cell_type": "code",
      "metadata": {
        "colab": {
          "base_uri": "https://localhost:8080/"
        },
        "id": "reA5OQ1vz_Sh",
        "outputId": "a5504765-2a4b-4056-cba1-5c9f60b275fb"
      },
      "source": [
        "'''\n",
        "input -> conv2d -> relu -> maxpool2d -> conv2d -> relu -> maxpool2d\n",
        "      -> flatten -> linear -> relu -> linear -> relu -> linear\n",
        "      -> MSELoss\n",
        "      -> loss\n",
        "'''\n",
        "print(loss.grad_fn)  # MSELoss\n",
        "print(loss.grad_fn.next_functions[0][0])  # Linear\n",
        "print(loss.grad_fn.next_functions[0][0].next_functions[0][0])  # ReLU"
      ],
      "execution_count": null,
      "outputs": [
        {
          "output_type": "stream",
          "text": [
            "<MseLossBackward object at 0x000002BA89084E50>\n",
            "<AddBackward0 object at 0x000002BA890846A0>\n",
            "<SqueezeBackward3 object at 0x000002BA89084E50>\n"
          ],
          "name": "stdout"
        }
      ]
    },
    {
      "cell_type": "markdown",
      "metadata": {
        "id": "vPu_CWzq0mC8"
      },
      "source": [
        "## Backprop"
      ]
    },
    {
      "cell_type": "code",
      "metadata": {
        "colab": {
          "base_uri": "https://localhost:8080/"
        },
        "id": "IHmBLmZW0LOR",
        "outputId": "fcb1885f-34f5-4ee5-a5cf-867c09a1ee60"
      },
      "source": [
        "print(net.conv1.bias.grad)\n",
        "\n",
        "net.zero_grad()\n",
        "print(net.conv1.bias.grad)\n",
        "\n",
        "loss.backward()\n",
        "print(net.conv1.bias.grad)\n",
        "\n",
        "print(net.conv1.bias.data)"
      ],
      "execution_count": null,
      "outputs": [
        {
          "output_type": "stream",
          "text": [
            "tensor([0., 0., 0., 0., 0., 0.], device='cuda:0')\n",
            "tensor([0., 0., 0., 0., 0., 0.], device='cuda:0')\n",
            "tensor([-0.0083,  0.0024,  0.0014,  0.0146,  0.0084, -0.0028], device='cuda:0')\n",
            "tensor([ 0.1283, -0.1392, -0.0737,  0.1344,  0.1087,  0.0944], device='cuda:0')\n",
            "tensor(-0.0253, device='cuda:0')\n"
          ],
          "name": "stdout"
        }
      ]
    },
    {
      "cell_type": "markdown",
      "metadata": {
        "id": "s3tSE2vN1JTj"
      },
      "source": [
        "## Update the weights"
      ]
    },
    {
      "cell_type": "code",
      "metadata": {
        "colab": {
          "base_uri": "https://localhost:8080/"
        },
        "id": "g3y0Hu5E00pW",
        "outputId": "90adfdf7-fec4-4855-e160-f4614548ba60"
      },
      "source": [
        "'''\n",
        "The simplest update rule used in practice is Stochastic Gradient Descent (SGD):\n",
        "                weight = weight - learning_rate * gradient  \n",
        "'''\n",
        "lr = 0.1\n",
        "for param in net.parameters():\n",
        "    param.data.sub(param.grad.data * lr)"
      ],
      "execution_count": null,
      "outputs": [
        {
          "output_type": "stream",
          "text": [
            "tensor(-0.0253, device='cuda:0')\n"
          ],
          "name": "stdout"
        }
      ]
    },
    {
      "cell_type": "code",
      "metadata": {
        "id": "FrYwGjTa1zX7"
      },
      "source": [
        "'''\n",
        "However, as you use neural networks, you want to use various different update \n",
        "rules such as SGD, Nesterov-SGD, Adam, RMSProp, etc. To enable this, we built a \n",
        "small package: torch.optim that implements all these methods.\n",
        "'''\n",
        "import torch.optim as optim"
      ],
      "execution_count": null,
      "outputs": []
    },
    {
      "cell_type": "code",
      "metadata": {
        "colab": {
          "base_uri": "https://localhost:8080/"
        },
        "id": "q_vSs8Lr7pnk",
        "outputId": "e295b470-8abd-4426-ff01-e4606c9f743b"
      },
      "source": [
        "# create your optimizer\n",
        "optimizer = optim.SGD(net.parameters(), lr = 0.01)\n",
        "\n",
        "# in your training loop\n",
        "print(net.conv1.bias.grad)\n",
        "optimizer.zero_grad()\n",
        "print(net.conv1.bias.grad)\n",
        "output = net(input)\n",
        "loss = criterion(output, target)\n",
        "loss.backward()\n",
        "optimizer.step() # Does the update"
      ],
      "execution_count": null,
      "outputs": [
        {
          "output_type": "stream",
          "text": [
            "tensor([-0.0083,  0.0024,  0.0014,  0.0146,  0.0084, -0.0028], device='cuda:0')\n",
            "tensor([0., 0., 0., 0., 0., 0.], device='cuda:0')\n"
          ],
          "name": "stdout"
        }
      ]
    },
    {
      "cell_type": "markdown",
      "metadata": {
        "id": "KjiG1s22JXqd"
      },
      "source": [
        "# Training a classifier"
      ]
    },
    {
      "cell_type": "code",
      "metadata": {
        "id": "UzJLspTM8EKz"
      },
      "source": [
        "'''\n",
        "we have created a package called torchvision, that has data loaders for common \n",
        "datasets such as Imagenet, CIFAR10, MNIST, etc. and data transformers \n",
        "for images, viz., torchvision.datasets and torch.utils.data.DataLoader\n",
        "'''\n",
        "import torch\n",
        "import torchvision\n",
        "import torchvision.transforms as transforms"
      ],
      "execution_count": 58,
      "outputs": []
    },
    {
      "cell_type": "markdown",
      "metadata": {
        "id": "HkXvbT6jLsUA"
      },
      "source": [
        "## Load and normalize CIFAR10"
      ]
    },
    {
      "cell_type": "code",
      "metadata": {
        "id": "sYZnaDANLgzS"
      },
      "source": [
        "transform = transforms.Compose(\n",
        "    [transforms.ToTensor(), \n",
        "     transforms.Normalize( (0.5, 0.5, 0.5), (0.5, 0.5, 0.5))\n",
        "     ]\n",
        ")\n",
        "\n",
        "batch_size = 4"
      ],
      "execution_count": 59,
      "outputs": []
    },
    {
      "cell_type": "code",
      "metadata": {
        "colab": {
          "base_uri": "https://localhost:8080/"
        },
        "id": "9dpfZgOwOYno",
        "outputId": "4ab65bd2-9f5c-4cbd-ebc4-b5162226f25a"
      },
      "source": [
        "trainset = torchvision.datasets.CIFAR10(root='./data', train=True, \n",
        "                                        download=True, transform=transform)"
      ],
      "execution_count": 60,
      "outputs": [
        {
          "output_type": "stream",
          "name": "stdout",
          "text": [
            "Files already downloaded and verified\n"
          ]
        }
      ]
    },
    {
      "cell_type": "code",
      "metadata": {
        "id": "Qqx8chpHOel8"
      },
      "source": [
        "trainloader = torch.utils.data.DataLoader(trainset, batch_size=batch_size, \n",
        "                                          shuffle=True, num_workers=2)"
      ],
      "execution_count": 61,
      "outputs": []
    },
    {
      "cell_type": "code",
      "metadata": {
        "colab": {
          "base_uri": "https://localhost:8080/"
        },
        "id": "QhhQ3YpaO47F",
        "outputId": "c3b7a847-501e-41f7-d089-3d32fb1367e6"
      },
      "source": [
        "testset = torchvision.datasets.CIFAR10(root='./data',train=False, \n",
        "                                       download=True, transform=transform)"
      ],
      "execution_count": 62,
      "outputs": [
        {
          "output_type": "stream",
          "name": "stdout",
          "text": [
            "Files already downloaded and verified\n"
          ]
        }
      ]
    },
    {
      "cell_type": "code",
      "metadata": {
        "id": "kHwbEFwkPW-x"
      },
      "source": [
        "testloader = torch.utils.data.DataLoader(testset, batch_size=batch_size,\n",
        "                                         shuffle=False, num_workers=2)"
      ],
      "execution_count": 63,
      "outputs": []
    },
    {
      "cell_type": "code",
      "metadata": {
        "id": "zAwFtdPKQnIR"
      },
      "source": [
        "classes = ('plane', 'car', 'bird', 'cat',\n",
        "           'deer', 'dog', 'frog', 'horse', 'ship', 'truck')"
      ],
      "execution_count": 64,
      "outputs": []
    },
    {
      "cell_type": "code",
      "metadata": {
        "colab": {
          "base_uri": "https://localhost:8080/"
        },
        "id": "voBkyHRVVLoF",
        "outputId": "bd800cca-75c8-49aa-f1bf-144a2239c903"
      },
      "source": [
        "print(len(trainloader.dataset))\n",
        "print(trainloader.dataset[0][0].shape, trainloader.dataset[0][1])"
      ],
      "execution_count": 65,
      "outputs": [
        {
          "output_type": "stream",
          "name": "stdout",
          "text": [
            "50000\n",
            "torch.Size([3, 32, 32]) 6\n"
          ]
        }
      ]
    },
    {
      "cell_type": "markdown",
      "metadata": {
        "id": "mdS_WKcRQ1RC"
      },
      "source": [
        "## image show : এমনিই..."
      ]
    },
    {
      "cell_type": "code",
      "metadata": {
        "id": "KopNh8BrQtJE"
      },
      "source": [
        "import matplotlib.pyplot as plt\n",
        "import numpy as np"
      ],
      "execution_count": 66,
      "outputs": []
    },
    {
      "cell_type": "code",
      "metadata": {
        "id": "34CYThcAQ0LH"
      },
      "source": [
        "# function to show an image\n",
        "def imshow(img):\n",
        "    img = img / 2 + 0.5\n",
        "    npimg = img.numpy()\n",
        "    plt.imshow(np.transpose(npimg, (1, 2, 0)))\n",
        "    plt.show()"
      ],
      "execution_count": 67,
      "outputs": []
    },
    {
      "cell_type": "code",
      "metadata": {
        "id": "R6KP2Ju2Um1J"
      },
      "source": [
        "dataitr = iter(testloader)"
      ],
      "execution_count": 90,
      "outputs": []
    },
    {
      "cell_type": "code",
      "metadata": {
        "colab": {
          "base_uri": "https://localhost:8080/",
          "height": 155
        },
        "id": "uKXYXiZbUpWI",
        "outputId": "4516e9de-d3c2-4be2-da2f-26f33ce0f92e"
      },
      "source": [
        "images, labels = dataitr.next()\n",
        "images = torchvision.utils.make_grid(images)\n",
        "imshow(images)\n",
        "print(' '.join('%5s'% classes[labels[j]] for j in range(batch_size)))"
      ],
      "execution_count": 91,
      "outputs": [
        {
          "output_type": "display_data",
          "data": {
            "image/png": "[encoded data removed]",
            "text/plain": [
              "<Figure size 432x288 with 1 Axes>"
            ]
          },
          "metadata": {
            "needs_background": "light"
          }
        },
        {
          "output_type": "stream",
          "name": "stdout",
          "text": [
            "  cat  ship  ship plane\n"
          ]
        }
      ]
    },
    {
      "cell_type": "markdown",
      "metadata": {
        "id": "nlJNlAflYC2p"
      },
      "source": [
        "## Define a CNN"
      ]
    },
    {
      "cell_type": "code",
      "metadata": {
        "id": "DLQ8Ie_cUy3Q"
      },
      "source": [
        "import torch.nn as nn\n",
        "import torch.nn.functional as F\n",
        "\n",
        "\n",
        "class Net(nn.Module):\n",
        "    def __init__(self):\n",
        "        super().__init__()\n",
        "        self.conv1 = nn.Conv2d(3, 6, 5)\n",
        "        self.pool = nn.MaxPool2d(2, 2)\n",
        "        self.conv2 = nn.Conv2d(6, 16, 5)\n",
        "        self.fc1 = nn.Linear(16 * 5 * 5, 120)\n",
        "        self.fc2 = nn.Linear(120, 84)\n",
        "        self.fc3 = nn.Linear(84, 10)\n",
        "\n",
        "    def forward(self, x):\n",
        "        x = self.pool(F.relu(self.conv1(x)))\n",
        "        x = self.pool(F.relu(self.conv2(x)))\n",
        "        x = torch.flatten(x, 1) # flatten all dimensions except batch\n",
        "        x = F.relu(self.fc1(x))\n",
        "        x = F.relu(self.fc2(x))\n",
        "        x = self.fc3(x)\n",
        "        return x\n",
        "\n",
        "\n",
        "net = Net()"
      ],
      "execution_count": 70,
      "outputs": []
    },
    {
      "cell_type": "markdown",
      "metadata": {
        "id": "RihNJ8fKYKmw"
      },
      "source": [
        "## Define a Loss function and optimizer"
      ]
    },
    {
      "cell_type": "code",
      "metadata": {
        "id": "SA9BQM1mYA9P"
      },
      "source": [
        "import torch.optim as optim"
      ],
      "execution_count": 71,
      "outputs": []
    },
    {
      "cell_type": "code",
      "metadata": {
        "id": "hWGVAdapYWE5"
      },
      "source": [
        "loss_criterion = nn.CrossEntropyLoss()\n",
        "optimizer = optim.SGD(net.parameters(), lr=0.01, momentum=0.9)"
      ],
      "execution_count": 72,
      "outputs": []
    },
    {
      "cell_type": "markdown",
      "metadata": {
        "id": "djJsnNP4YxV4"
      },
      "source": [
        "## Train the network"
      ]
    },
    {
      "cell_type": "code",
      "metadata": {
        "id": "_r8mFlRhYtFV"
      },
      "source": [
        "n_epochs = 2"
      ],
      "execution_count": 73,
      "outputs": []
    },
    {
      "cell_type": "code",
      "metadata": {
        "colab": {
          "base_uri": "https://localhost:8080/"
        },
        "id": "-kJ3b4tIY9Jj",
        "outputId": "333f0892-5d5f-4bf4-d0fc-22c18989a8af"
      },
      "source": [
        "for epoch in range(n_epochs):\n",
        "    running_loss = 0.0\n",
        "    for i, data in enumerate(trainloader):\n",
        "        inputs, labels = data\n",
        "\n",
        "        optimizer.zero_grad()\n",
        "\n",
        "        outputs = net(inputs)\n",
        "        loss = loss_criterion(outputs, labels)\n",
        "        loss.backward()\n",
        "        optimizer.step()\n",
        "\n",
        "        running_loss += loss.item()\n",
        "        if i % 2000 == 1999:\n",
        "            print('[%d, %5d] loss: %.3f' % \n",
        "                  (epoch + 1, i + 1, running_loss / 2000))\n",
        "            running_loss = 0.0\n",
        "\n",
        "print('Finised training')"
      ],
      "execution_count": 74,
      "outputs": [
        {
          "output_type": "stream",
          "name": "stdout",
          "text": [
            "[1,  2000] loss: 2.060\n",
            "[1,  4000] loss: 1.974\n",
            "[1,  6000] loss: 1.971\n",
            "[1,  8000] loss: 1.976\n",
            "[1, 10000] loss: 1.975\n",
            "[1, 12000] loss: 1.960\n",
            "[2,  2000] loss: 1.938\n",
            "[2,  4000] loss: 1.979\n",
            "[2,  6000] loss: 1.927\n",
            "[2,  8000] loss: 1.943\n",
            "[2, 10000] loss: 1.945\n",
            "[2, 12000] loss: 1.949\n",
            "Finised training\n"
          ]
        }
      ]
    },
    {
      "cell_type": "code",
      "metadata": {
        "id": "cS96M_5p4xCn"
      },
      "source": [
        "# save the model\n",
        "PATH = './cifar_net.pth'\n",
        "torch.save(net.state_dict(), PATH)"
      ],
      "execution_count": 75,
      "outputs": []
    },
    {
      "cell_type": "markdown",
      "metadata": {
        "id": "ifGvMZHQ5rJN"
      },
      "source": [
        "## Test the network"
      ]
    },
    {
      "cell_type": "code",
      "metadata": {
        "id": "nOOnbiet66xI"
      },
      "source": [
        "dataitr = iter(testloader)"
      ],
      "execution_count": 92,
      "outputs": []
    },
    {
      "cell_type": "code",
      "metadata": {
        "id": "V0Erx5w1ZK10",
        "colab": {
          "base_uri": "https://localhost:8080/",
          "height": 155
        },
        "outputId": "7cd53c76-89f4-4186-8771-1183b3fa0a4e"
      },
      "source": [
        "images, labels = dataitr.next()\n",
        "imshow(torchvision.utils.make_grid(images))\n",
        "print('GroundTruth: ', ' '.join('%5s' % classes[labels[j]] for j in range(4)))"
      ],
      "execution_count": 95,
      "outputs": [
        {
          "output_type": "display_data",
          "data": {
            "image/png": "[encoded data removed]",
            "text/plain": [
              "<Figure size 432x288 with 1 Axes>"
            ]
          },
          "metadata": {
            "needs_background": "light"
          }
        },
        {
          "output_type": "stream",
          "name": "stdout",
          "text": [
            "GroundTruth:   frog  frog   car  frog\n"
          ]
        }
      ]
    },
    {
      "cell_type": "code",
      "metadata": {
        "colab": {
          "base_uri": "https://localhost:8080/"
        },
        "id": "Cd2TbMg76_kL",
        "outputId": "22077ed6-f93f-49dc-d88b-4277702b27c5"
      },
      "source": [
        "net = Net()\n",
        "net.load_state_dict(torch.load(PATH))"
      ],
      "execution_count": 78,
      "outputs": [
        {
          "output_type": "execute_result",
          "data": {
            "text/plain": [
              "<All keys matched successfully>"
            ]
          },
          "metadata": {},
          "execution_count": 78
        }
      ]
    },
    {
      "cell_type": "code",
      "metadata": {
        "colab": {
          "base_uri": "https://localhost:8080/"
        },
        "id": "KPLjiS2V5kyd",
        "outputId": "5ee28a13-7d11-4974-c7ba-e6a36d753ac7"
      },
      "source": [
        "outputs = net(images)\n",
        "outputs"
      ],
      "execution_count": 79,
      "outputs": [
        {
          "output_type": "execute_result",
          "data": {
            "text/plain": [
              "tensor([[-0.9453,  0.1080, -0.2057,  0.7401, -0.2910,  1.1790,  0.0466, -0.1082,\n",
              "         -0.5245,  0.5250],\n",
              "        [ 2.2514,  1.3019,  0.5227, -1.2754, -1.1907, -1.2400, -2.0494, -1.1020,\n",
              "          2.0602,  0.9694],\n",
              "        [ 2.2514,  1.3019,  0.5227, -1.2754, -1.1907, -1.2400, -2.0494, -1.1020,\n",
              "          2.0602,  0.9694],\n",
              "        [ 2.2514,  1.3019,  0.5227, -1.2754, -1.1907, -1.2400, -2.0494, -1.1020,\n",
              "          2.0602,  0.9694]], grad_fn=<AddmmBackward>)"
            ]
          },
          "metadata": {},
          "execution_count": 79
        }
      ]
    },
    {
      "cell_type": "code",
      "metadata": {
        "colab": {
          "base_uri": "https://localhost:8080/"
        },
        "id": "DYPTybcZ6C4I",
        "outputId": "9eed3f2c-6dda-4433-c4a2-fd42062603bf"
      },
      "source": [
        "_, predicted = torch.max(outputs, 1)\n",
        "predicted"
      ],
      "execution_count": 80,
      "outputs": [
        {
          "output_type": "execute_result",
          "data": {
            "text/plain": [
              "tensor([5, 0, 0, 0])"
            ]
          },
          "metadata": {},
          "execution_count": 80
        }
      ]
    },
    {
      "cell_type": "code",
      "metadata": {
        "colab": {
          "base_uri": "https://localhost:8080/"
        },
        "id": "nCfdDnk76BDG",
        "outputId": "e5ea7667-e020-4ae5-d7c0-eaed47a76cb0"
      },
      "source": [
        "print('GroundTruth: ', ' '.join('%5s' % classes[predicted[j]] for j in range(4)))"
      ],
      "execution_count": 81,
      "outputs": [
        {
          "output_type": "stream",
          "name": "stdout",
          "text": [
            "GroundTruth:    dog plane plane plane\n"
          ]
        }
      ]
    },
    {
      "cell_type": "code",
      "metadata": {
        "colab": {
          "base_uri": "https://localhost:8080/"
        },
        "id": "HASMioyX6pgc",
        "outputId": "a2732fae-4afb-41df-92d9-069ac715ec91"
      },
      "source": [
        "correct = 0\n",
        "total = 0\n",
        "for data in testloader:\n",
        "    images, labels = data\n",
        "    outputs = net(images);\n",
        "    # print(outputs)\n",
        "    _, predicted = torch.max(outputs, 1)\n",
        "    # print(labels, predicted)\n",
        "    total += labels.size(0)\n",
        "    correct += (predicted == labels).sum().item()\n",
        "    # print(correct)\n",
        "\n",
        "print('Accuracy of %d test images: %d %%' % (testset.data.shape[0], 100*correct/total))"
      ],
      "execution_count": 82,
      "outputs": [
        {
          "output_type": "stream",
          "name": "stdout",
          "text": [
            "Accuracy of 10000 test images: 24 %\n"
          ]
        }
      ]
    },
    {
      "cell_type": "code",
      "metadata": {
        "colab": {
          "base_uri": "https://localhost:8080/"
        },
        "id": "vhjfA73q9SRK",
        "outputId": "e378e0aa-87c4-4d38-eeec-1b754a6a77b0"
      },
      "source": [
        "# prepare to count predictions for each class\n",
        "correct_pred = {classname: 0 for classname in classes}\n",
        "total_pred = {classname: 0 for classname in classes}\n",
        "print(correct_pred, total_pred)\n",
        "\n",
        "# again no gradients needed\n",
        "with torch.no_grad():\n",
        "    for data in testloader:\n",
        "        images, labels = data\n",
        "        outputs = net(images)\n",
        "        _, predictions = torch.max(outputs, 1)\n",
        "        # collect the correct predictions for each class\n",
        "        for label, prediction in zip(labels, predictions):\n",
        "            if label == prediction:\n",
        "                correct_pred[classes[label]] += 1\n",
        "            total_pred[classes[label]] += 1\n",
        "\n",
        "\n",
        "# print accuracy for each class\n",
        "for classname, correct_count in correct_pred.items():\n",
        "    accuracy = 100 * float(correct_count) / total_pred[classname]\n",
        "    print(\"Accuracy for class {:5s} is: {:.1f} %\".format(classname,\n",
        "                                                   accuracy))"
      ],
      "execution_count": 83,
      "outputs": [
        {
          "output_type": "stream",
          "name": "stdout",
          "text": [
            "{'plane': 0, 'car': 0, 'bird': 0, 'cat': 0, 'deer': 0, 'dog': 0, 'frog': 0, 'horse': 0, 'ship': 0, 'truck': 0} {'plane': 0, 'car': 0, 'bird': 0, 'cat': 0, 'deer': 0, 'dog': 0, 'frog': 0, 'horse': 0, 'ship': 0, 'truck': 0}\n",
            "Accuracy for class plane is: 54.2 %\n",
            "Accuracy for class car   is: 35.5 %\n",
            "Accuracy for class bird  is: 3.0 %\n",
            "Accuracy for class cat   is: 4.4 %\n",
            "Accuracy for class deer  is: 34.8 %\n",
            "Accuracy for class dog   is: 13.7 %\n",
            "Accuracy for class frog  is: 32.0 %\n",
            "Accuracy for class horse is: 21.2 %\n",
            "Accuracy for class ship  is: 6.6 %\n",
            "Accuracy for class truck is: 44.1 %\n"
          ]
        }
      ]
    },
    {
      "cell_type": "code",
      "metadata": {
        "id": "XM-WvHIQ_0S1"
      },
      "source": [
        ""
      ],
      "execution_count": null,
      "outputs": []
    }
  ]
}